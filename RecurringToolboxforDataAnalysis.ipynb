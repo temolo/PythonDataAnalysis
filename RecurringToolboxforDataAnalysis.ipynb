{
 "cells": [
  {
   "cell_type": "markdown",
   "metadata": {},
   "source": [
    "## Data  Analysis Recurring Toolbox"
   ]
  },
  {
   "cell_type": "code",
   "execution_count": null,
   "metadata": {},
   "outputs": [],
   "source": [
    "#have a real look on the dataframe\n",
    "# .describe()"
   ]
  },
  {
   "cell_type": "code",
   "execution_count": null,
   "metadata": {},
   "outputs": [],
   "source": [
    "#simple query the dataset by selecting a value\n",
    "#same as data filtering in excel\n",
    "#using a pandas dataframe\n",
    "#first method using fancy indexing\n",
    "# dataframe[dataframe.columnname booleans expression]\n",
    "#ex. d[d.Difference>31]\n",
    "\n",
    "#use fancy indexing to select the dataset where one column with time data is greater than\n",
    "#key is the usage of np.timedelta64(number,'type such minutes, hours,Days, Month, Year')\n",
    "d[d.Difference>np.timedelta64(30, 'm')]\n",
    "np.timedelta64(1, 'D')\n",
    "np.timedelta64(4, 'h')\n",
    "np.timedelta64('nAt')\n",
    "\n",
    "#second method using .query\n",
    "#ex. d.query('Difference>31')\n",
    "# select subset, or query the data, by using --> .query()\n",
    "# which is less Pytonic but more structured\n",
    "datastructure02_df.query('WeekDay==\"Sunday\"or WeekDay==\"Saturday\" and Temp_DS!=-127')\n",
    "# .loc[] works on idexes, while .query() works on every available field\n",
    "# obviously there should be a performance difference at retrieving the data"
   ]
  },
  {
   "cell_type": "code",
   "execution_count": null,
   "metadata": {},
   "outputs": [],
   "source": [
    "# select subset, or query the data, by using .loc[]\n",
    "#it is possible to show 1 SINGLE field on the basis of the value set for the index or the whole columns\n",
    "#datastructure_df_by_dayhour.loc[3] #commented alternative to below codeline\n",
    "datastructure_df_by_dayhour.loc[3,'Humi_BME']"
   ]
  },
  {
   "cell_type": "code",
   "execution_count": null,
   "metadata": {},
   "outputs": [],
   "source": [
    "#select subset by DATE INTERVAL using .loc[]\n",
    "datatoplot02.loc['2021-01-01':'2021-12-31']\n",
    "#first promote colums with date to index\n",
    "datatoplot02=datatoplot.set_index('created_at').sort_index()\n",
    "#by no means it is possible to use >'2021-01-01' and any boolean comparison within .loc[] !!!\n",
    "#but the workaround of a time frame before first date and a date in the future works"
   ]
  },
  {
   "cell_type": "code",
   "execution_count": null,
   "metadata": {},
   "outputs": [],
   "source": [
    "# change the index starting from the ground dataframe: datastructure02_df\n",
    "# *** datastructure_df_by_day_weekhour***\n",
    "# multi index day week hour\n",
    "datastructure_df_by_day_weekhour=datastructure02_df.set_index(['WeekDay','DayHour']).sort_index()\n",
    "# select subset, or query the data, by using .loc[]\n",
    "# in this case with a multi index, by using both Weekday and DayHour\n",
    "datastructure_df_by_day_weekhour.loc[('Monday',22)]"
   ]
  },
  {
   "cell_type": "code",
   "execution_count": null,
   "metadata": {},
   "outputs": [],
   "source": [
    "# create a new field with a conditional value (value x if true, value y if false)\n",
    "# based on a condition verified against values on other columns\n",
    "# by using **** np.where(condition on other column, value if true, value if false)***\n",
    "d_df['Anomaly'] = np.where((d_df.Difference<np.timedelta64(29, 'm')) | (d_df.Difference>np.timedelta64(31, 'm')) , 1, 0)"
   ]
  },
  {
   "cell_type": "code",
   "execution_count": null,
   "metadata": {},
   "outputs": [],
   "source": [
    "#selectively update the value of a \"cell\"\n",
    "#by selecting the row by index\n",
    "#by selecting the column by column name\n",
    "#by using **** df.at[i, 'ifor'] = x if <something> else y ****\n",
    "d_by_EntryId.at[4,\"Event\"]=11 #puts the value 11 at row 4 column \"Event\"\n",
    "\n",
    "#other usage here below:\n",
    "for i in d_by_EntryId.index:\n",
    "    a=d_by_EntryId.at[i,\"Diff\"] #iterate all rows of the table and... \n",
    "    #.. at every iteraction put the value of [i, Diff] in variable a\n"
   ]
  },
  {
   "cell_type": "code",
   "execution_count": null,
   "metadata": {},
   "outputs": [],
   "source": [
    "#**********\n",
    "#save to excel works perfectly\n",
    "#to be fine tuned directory and paths management\n",
    "writer=pd.ExcelWriter('d_by_EntryId04.xlsx')\n",
    "d_by_EntryId.to_excel(writer,'Sheet1')\n",
    "writer.save()"
   ]
  },
  {
   "cell_type": "code",
   "execution_count": null,
   "metadata": {},
   "outputs": [],
   "source": [
    "# visualize on screen 50 rows, first 25 and last 25\n",
    "pd.set_option(\"display.min_rows\", 50)"
   ]
  },
  {
   "cell_type": "code",
   "execution_count": null,
   "metadata": {},
   "outputs": [],
   "source": [
    "#plot a LINECHART\n",
    "# .plot() after a pandas series is the simplest way\n",
    "d_by_EntryId['TempDS18B20'].plot()\n",
    "#the interesting trick here is that the x axis is by default the dataframe INDEX\n",
    "#therefore you have to change the index if you want to change the variable drafted on x axis\n",
    "\n",
    "#plot a LINECHART in case you don't want to reindex, by only sorting values of x axis on the fly\n",
    "d_by_EntryId.sort_values('created_at').plot('created_at','TempDHT22')"
   ]
  },
  {
   "cell_type": "code",
   "execution_count": null,
   "metadata": {},
   "outputs": [],
   "source": [
    "#plot a XY scatterd plot of 2 variables\n",
    "#by using pandas .plot.scatter('variable x', 'variable y')\n",
    "d_by_EntryId.plot.scatter('TempDHT22','HumidityDHT22')\n",
    "\n",
    "\n",
    "##plot a XY scatterd plot of 2 variables on 2 DIFFERENT SERIES, for instance by year\n",
    "d_by_Year=d_by_EntryId.set_index('Year').sort_index() #index by year, will be used by .loc[] to select 2019 and 2020\n",
    "# will be used by .loc[] to select 2019 and 2020\n",
    "# as the two different SERIES\n",
    "axes = d_by_Year.loc[2019].plot.scatter('TempDHT22', 'HumidityDHT22', label=2019)\n",
    "d_by_Year.loc[2020].plot.scatter('TempDHT22', 'HumidityDHT22', label=2020, color='C1', ax=axes)\n",
    "\n",
    "\n"
   ]
  },
  {
   "cell_type": "code",
   "execution_count": null,
   "metadata": {},
   "outputs": [],
   "source": [
    "#plot a BARCHART\n",
    "#two different syntaxes to select the field, the variable to be plotted\n",
    "datatoplot02['TempDS18B20'].plot.bar(color='k')\n",
    "datatoplot02.TempDS18B20.plot.bar(color='k')\n",
    "#the interesting trick here is that the x axis is by default the dataframe INDEX\n",
    "#therefore to plot over time an horizontal or x axis, 'created_at' has to be promoted as index\n",
    "\n",
    "#plot the chart by selecting on .loc[] on the fly, on the same codeline\n",
    "#and using the timedelta64 as type command as well\n",
    "pp.figure(figsize=(16,2.5))\n",
    "datatoplot02.loc['2021-01-01':'2021-12-31'].Work_Time.astype('timedelta64[D]').plot.bar(color='b')\n",
    "\n",
    "#to plot a field with a time format, it must be used .astype('timedelta64[D]')\n",
    "datatoplot02.Work_Time.astype('timedelta64[D]').plot.bar(color='k')\n",
    "\n",
    "'b' as blue\n",
    "'g' as green\n",
    "'r' as red\n",
    "'c' as cyan\n",
    "'m' as magenta\n",
    "'y' as yellow\n",
    "'k' as black\n",
    "'w' as white"
   ]
  },
  {
   "cell_type": "code",
   "execution_count": null,
   "metadata": {},
   "outputs": [],
   "source": [
    "#**out a complete dataset without specific index, pivot table 2 level goupby and 2 selected columns of value to which mean() function is applied\n",
    "f=d_by_EntryId.groupby(['Year','Month'])[['TempDS18B20','TempDHT22']].mean()\n",
    "f"
   ]
  }
 ],
 "metadata": {
  "kernelspec": {
   "display_name": "Python 3",
   "language": "python",
   "name": "python3"
  },
  "language_info": {
   "codemirror_mode": {
    "name": "ipython",
    "version": 3
   },
   "file_extension": ".py",
   "mimetype": "text/x-python",
   "name": "python",
   "nbconvert_exporter": "python",
   "pygments_lexer": "ipython3",
   "version": "3.8.5"
  }
 },
 "nbformat": 4,
 "nbformat_minor": 4
}
